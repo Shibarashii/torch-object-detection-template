{
  "cells": [
    {
      "cell_type": "markdown",
      "metadata": {},
      "source": [
        "# **Colab Notebook Sample Template**\n"
      ]
    },
    {
      "cell_type": "code",
      "execution_count": null,
      "metadata": {
        "collapsed": true,
        "id": "aUz_5RAByODP"
      },
      "outputs": [],
      "source": [
        "!rm -rf nail-feature-classifier\n",
        "!git clone https://github.com/Shibarashii/nail-feature-detection.git\n",
        "%cd nail-feature-detection"
      ]
    },
    {
      "cell_type": "markdown",
      "metadata": {},
      "source": [
        "Install `requirements.txt`\n"
      ]
    },
    {
      "cell_type": "code",
      "execution_count": null,
      "metadata": {
        "id": "NV6455F3zQH0"
      },
      "outputs": [],
      "source": [
        "import subprocess\n",
        "import pkg_resources\n",
        "\n",
        "with open(\"requirements.txt\") as f:\n",
        "    for line in f:\n",
        "        pkg = line.strip()\n",
        "        if not pkg or pkg.startswith(\"#\"):\n",
        "            continue\n",
        "        pkg_name = pkg.split(\"==\")[0]\n",
        "        try:\n",
        "            pkg_resources.get_distribution(pkg_name)\n",
        "        except pkg_resources.DistributionNotFound:\n",
        "            print(f\"Installing missing package: {pkg}\")\n",
        "            subprocess.check_call([\"pip\", \"install\", pkg])"
      ]
    },
    {
      "cell_type": "markdown",
      "metadata": {
        "id": "fibd6SDRyamg"
      },
      "source": [
        "## Training\n"
      ]
    },
    {
      "cell_type": "code",
      "execution_count": null,
      "metadata": {
        "id": "ml8iasYfyZaJ"
      },
      "outputs": [],
      "source": [
        "!PYTHONPATH=. python scripts/train.py \\\n",
        "    --model yolov11s \\\n",
        "    --data config/data.yaml \\\n",
        "    --epochs 150 \\\n",
        "    --batch 64 \\\n",
        "    --imgsz 416 \\\n",
        "    --lr0 0.01 \\\n",
        "    --patience 50 \\\n",
        "    --mosaic 1.0 \\\n",
        "    --mixup 0.1 \\\n",
        "    --save-period 20 \\\n",
        "    --name nail_detector_yolov11s"
      ]
    },
    {
      "cell_type": "markdown",
      "metadata": {
        "id": "cwuI58c3zznb"
      },
      "source": [
        "## Evaluation\n"
      ]
    },
    {
      "cell_type": "code",
      "execution_count": null,
      "metadata": {
        "id": "9XMwMpoBy0sm"
      },
      "outputs": [],
      "source": [
        "!PYTHONPATH=. python scripts/evaluate.py --weights outputs/models/nail_detector_yolov11s/weights/best.pt --split val"
      ]
    },
    {
      "cell_type": "markdown",
      "metadata": {
        "id": "RtRbuWqHeHef"
      },
      "source": [
        "## Download Outputs\n"
      ]
    },
    {
      "cell_type": "code",
      "execution_count": null,
      "metadata": {
        "id": "CAc310vB91v6"
      },
      "outputs": [],
      "source": [
        "import shutil\n",
        "from pathlib import Path\n",
        "from google.colab import files\n",
        "import zipfile\n",
        "from datetime import datetime\n",
        "\n",
        "\n",
        "def download_all_outputs(experiment_name=None):\n",
        "    \"\"\"\n",
        "    Download all training outputs as a single zip file\n",
        "\n",
        "    Args:\n",
        "        experiment_name: Specific experiment folder name, or None for all\n",
        "    \"\"\"\n",
        "    timestamp = datetime.now().strftime(\"%Y%m%d_%H%M%S\")\n",
        "\n",
        "    if experiment_name:\n",
        "        source_dir = Path(f\"outputs/models/{experiment_name}\")\n",
        "        zip_name = f\"{experiment_name}_{timestamp}.zip\"\n",
        "    else:\n",
        "        source_dir = Path(\"outputs\")\n",
        "        zip_name = f\"all_outputs_{timestamp}.zip\"\n",
        "\n",
        "    if not source_dir.exists():\n",
        "        print(f\"❌ Directory not found: {source_dir}\")\n",
        "        return\n",
        "\n",
        "    print(f\"📦 Creating zip file: {zip_name}\")\n",
        "    print(f\"📁 Source: {source_dir}\")\n",
        "\n",
        "    shutil.make_archive(\n",
        "        zip_name.replace('.zip', ''),\n",
        "        'zip',\n",
        "        source_dir.parent,\n",
        "        source_dir.name\n",
        "    )\n",
        "\n",
        "    print(f\"⬇️  Downloading {zip_name}...\")\n",
        "    files.download(zip_name)\n",
        "    print(\"✅ Download complete!\")\n",
        "\n",
        "\n",
        "download_all_outputs()"
      ]
    }
  ],
  "metadata": {
    "accelerator": "GPU",
    "colab": {
      "gpuType": "T4",
      "provenance": []
    },
    "kernelspec": {
      "display_name": "Python 3",
      "name": "python3"
    },
    "language_info": {
      "name": "python"
    }
  },
  "nbformat": 4,
  "nbformat_minor": 0
}
